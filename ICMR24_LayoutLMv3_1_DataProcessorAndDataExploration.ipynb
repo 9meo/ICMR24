{
  "nbformat": 4,
  "nbformat_minor": 0,
  "metadata": {
    "colab": {
      "provenance": [],
      "mount_file_id": "1cd7r3MgikpcndICLVl68sEAkGaPFTut4",
      "authorship_tag": "ABX9TyPxhBWNkhMDMVni8zWtACL7",
      "include_colab_link": true
    },
    "kernelspec": {
      "name": "python3",
      "display_name": "Python 3"
    },
    "language_info": {
      "name": "python"
    },
    "widgets": {
      "application/vnd.jupyter.widget-state+json": {
        "f4fc3c20a5e84cd3a4c8565a267c0fd9": {
          "model_module": "@jupyter-widgets/controls",
          "model_name": "HBoxModel",
          "model_module_version": "1.5.0",
          "state": {
            "_dom_classes": [],
            "_model_module": "@jupyter-widgets/controls",
            "_model_module_version": "1.5.0",
            "_model_name": "HBoxModel",
            "_view_count": null,
            "_view_module": "@jupyter-widgets/controls",
            "_view_module_version": "1.5.0",
            "_view_name": "HBoxView",
            "box_style": "",
            "children": [
              "IPY_MODEL_b610f9b6c2cd487f9b23b223f3a2f2f7",
              "IPY_MODEL_3ceff73ee0b949b1a151ad72d4c4bd3f",
              "IPY_MODEL_21185138341f45fcb6342299cc75f1c8"
            ],
            "layout": "IPY_MODEL_7560df2c07f148c4a2dcf544d1061fe7"
          }
        },
        "b610f9b6c2cd487f9b23b223f3a2f2f7": {
          "model_module": "@jupyter-widgets/controls",
          "model_name": "HTMLModel",
          "model_module_version": "1.5.0",
          "state": {
            "_dom_classes": [],
            "_model_module": "@jupyter-widgets/controls",
            "_model_module_version": "1.5.0",
            "_model_name": "HTMLModel",
            "_view_count": null,
            "_view_module": "@jupyter-widgets/controls",
            "_view_module_version": "1.5.0",
            "_view_name": "HTMLView",
            "description": "",
            "description_tooltip": null,
            "layout": "IPY_MODEL_3ea1beee7e6645a2b97d7deb797c2290",
            "placeholder": "​",
            "style": "IPY_MODEL_a3bb0e7e5e024411aeab673884818252",
            "value": "tokenizer_config.json: 100%"
          }
        },
        "3ceff73ee0b949b1a151ad72d4c4bd3f": {
          "model_module": "@jupyter-widgets/controls",
          "model_name": "FloatProgressModel",
          "model_module_version": "1.5.0",
          "state": {
            "_dom_classes": [],
            "_model_module": "@jupyter-widgets/controls",
            "_model_module_version": "1.5.0",
            "_model_name": "FloatProgressModel",
            "_view_count": null,
            "_view_module": "@jupyter-widgets/controls",
            "_view_module_version": "1.5.0",
            "_view_name": "ProgressView",
            "bar_style": "success",
            "description": "",
            "description_tooltip": null,
            "layout": "IPY_MODEL_aad6ea67e2c94703997b9bb3ee9f7404",
            "max": 1144,
            "min": 0,
            "orientation": "horizontal",
            "style": "IPY_MODEL_f59ab02cb9874d6591c4b989b135c02e",
            "value": 1144
          }
        },
        "21185138341f45fcb6342299cc75f1c8": {
          "model_module": "@jupyter-widgets/controls",
          "model_name": "HTMLModel",
          "model_module_version": "1.5.0",
          "state": {
            "_dom_classes": [],
            "_model_module": "@jupyter-widgets/controls",
            "_model_module_version": "1.5.0",
            "_model_name": "HTMLModel",
            "_view_count": null,
            "_view_module": "@jupyter-widgets/controls",
            "_view_module_version": "1.5.0",
            "_view_name": "HTMLView",
            "description": "",
            "description_tooltip": null,
            "layout": "IPY_MODEL_93a65346f01245d6bdf5687ef0c89a8f",
            "placeholder": "​",
            "style": "IPY_MODEL_7be0db0d606a428cbeb565a8f7024011",
            "value": " 1.14k/1.14k [00:00&lt;00:00, 15.3kB/s]"
          }
        },
        "7560df2c07f148c4a2dcf544d1061fe7": {
          "model_module": "@jupyter-widgets/base",
          "model_name": "LayoutModel",
          "model_module_version": "1.2.0",
          "state": {
            "_model_module": "@jupyter-widgets/base",
            "_model_module_version": "1.2.0",
            "_model_name": "LayoutModel",
            "_view_count": null,
            "_view_module": "@jupyter-widgets/base",
            "_view_module_version": "1.2.0",
            "_view_name": "LayoutView",
            "align_content": null,
            "align_items": null,
            "align_self": null,
            "border": null,
            "bottom": null,
            "display": null,
            "flex": null,
            "flex_flow": null,
            "grid_area": null,
            "grid_auto_columns": null,
            "grid_auto_flow": null,
            "grid_auto_rows": null,
            "grid_column": null,
            "grid_gap": null,
            "grid_row": null,
            "grid_template_areas": null,
            "grid_template_columns": null,
            "grid_template_rows": null,
            "height": null,
            "justify_content": null,
            "justify_items": null,
            "left": null,
            "margin": null,
            "max_height": null,
            "max_width": null,
            "min_height": null,
            "min_width": null,
            "object_fit": null,
            "object_position": null,
            "order": null,
            "overflow": null,
            "overflow_x": null,
            "overflow_y": null,
            "padding": null,
            "right": null,
            "top": null,
            "visibility": null,
            "width": null
          }
        },
        "3ea1beee7e6645a2b97d7deb797c2290": {
          "model_module": "@jupyter-widgets/base",
          "model_name": "LayoutModel",
          "model_module_version": "1.2.0",
          "state": {
            "_model_module": "@jupyter-widgets/base",
            "_model_module_version": "1.2.0",
            "_model_name": "LayoutModel",
            "_view_count": null,
            "_view_module": "@jupyter-widgets/base",
            "_view_module_version": "1.2.0",
            "_view_name": "LayoutView",
            "align_content": null,
            "align_items": null,
            "align_self": null,
            "border": null,
            "bottom": null,
            "display": null,
            "flex": null,
            "flex_flow": null,
            "grid_area": null,
            "grid_auto_columns": null,
            "grid_auto_flow": null,
            "grid_auto_rows": null,
            "grid_column": null,
            "grid_gap": null,
            "grid_row": null,
            "grid_template_areas": null,
            "grid_template_columns": null,
            "grid_template_rows": null,
            "height": null,
            "justify_content": null,
            "justify_items": null,
            "left": null,
            "margin": null,
            "max_height": null,
            "max_width": null,
            "min_height": null,
            "min_width": null,
            "object_fit": null,
            "object_position": null,
            "order": null,
            "overflow": null,
            "overflow_x": null,
            "overflow_y": null,
            "padding": null,
            "right": null,
            "top": null,
            "visibility": null,
            "width": null
          }
        },
        "a3bb0e7e5e024411aeab673884818252": {
          "model_module": "@jupyter-widgets/controls",
          "model_name": "DescriptionStyleModel",
          "model_module_version": "1.5.0",
          "state": {
            "_model_module": "@jupyter-widgets/controls",
            "_model_module_version": "1.5.0",
            "_model_name": "DescriptionStyleModel",
            "_view_count": null,
            "_view_module": "@jupyter-widgets/base",
            "_view_module_version": "1.2.0",
            "_view_name": "StyleView",
            "description_width": ""
          }
        },
        "aad6ea67e2c94703997b9bb3ee9f7404": {
          "model_module": "@jupyter-widgets/base",
          "model_name": "LayoutModel",
          "model_module_version": "1.2.0",
          "state": {
            "_model_module": "@jupyter-widgets/base",
            "_model_module_version": "1.2.0",
            "_model_name": "LayoutModel",
            "_view_count": null,
            "_view_module": "@jupyter-widgets/base",
            "_view_module_version": "1.2.0",
            "_view_name": "LayoutView",
            "align_content": null,
            "align_items": null,
            "align_self": null,
            "border": null,
            "bottom": null,
            "display": null,
            "flex": null,
            "flex_flow": null,
            "grid_area": null,
            "grid_auto_columns": null,
            "grid_auto_flow": null,
            "grid_auto_rows": null,
            "grid_column": null,
            "grid_gap": null,
            "grid_row": null,
            "grid_template_areas": null,
            "grid_template_columns": null,
            "grid_template_rows": null,
            "height": null,
            "justify_content": null,
            "justify_items": null,
            "left": null,
            "margin": null,
            "max_height": null,
            "max_width": null,
            "min_height": null,
            "min_width": null,
            "object_fit": null,
            "object_position": null,
            "order": null,
            "overflow": null,
            "overflow_x": null,
            "overflow_y": null,
            "padding": null,
            "right": null,
            "top": null,
            "visibility": null,
            "width": null
          }
        },
        "f59ab02cb9874d6591c4b989b135c02e": {
          "model_module": "@jupyter-widgets/controls",
          "model_name": "ProgressStyleModel",
          "model_module_version": "1.5.0",
          "state": {
            "_model_module": "@jupyter-widgets/controls",
            "_model_module_version": "1.5.0",
            "_model_name": "ProgressStyleModel",
            "_view_count": null,
            "_view_module": "@jupyter-widgets/base",
            "_view_module_version": "1.2.0",
            "_view_name": "StyleView",
            "bar_color": null,
            "description_width": ""
          }
        },
        "93a65346f01245d6bdf5687ef0c89a8f": {
          "model_module": "@jupyter-widgets/base",
          "model_name": "LayoutModel",
          "model_module_version": "1.2.0",
          "state": {
            "_model_module": "@jupyter-widgets/base",
            "_model_module_version": "1.2.0",
            "_model_name": "LayoutModel",
            "_view_count": null,
            "_view_module": "@jupyter-widgets/base",
            "_view_module_version": "1.2.0",
            "_view_name": "LayoutView",
            "align_content": null,
            "align_items": null,
            "align_self": null,
            "border": null,
            "bottom": null,
            "display": null,
            "flex": null,
            "flex_flow": null,
            "grid_area": null,
            "grid_auto_columns": null,
            "grid_auto_flow": null,
            "grid_auto_rows": null,
            "grid_column": null,
            "grid_gap": null,
            "grid_row": null,
            "grid_template_areas": null,
            "grid_template_columns": null,
            "grid_template_rows": null,
            "height": null,
            "justify_content": null,
            "justify_items": null,
            "left": null,
            "margin": null,
            "max_height": null,
            "max_width": null,
            "min_height": null,
            "min_width": null,
            "object_fit": null,
            "object_position": null,
            "order": null,
            "overflow": null,
            "overflow_x": null,
            "overflow_y": null,
            "padding": null,
            "right": null,
            "top": null,
            "visibility": null,
            "width": null
          }
        },
        "7be0db0d606a428cbeb565a8f7024011": {
          "model_module": "@jupyter-widgets/controls",
          "model_name": "DescriptionStyleModel",
          "model_module_version": "1.5.0",
          "state": {
            "_model_module": "@jupyter-widgets/controls",
            "_model_module_version": "1.5.0",
            "_model_name": "DescriptionStyleModel",
            "_view_count": null,
            "_view_module": "@jupyter-widgets/base",
            "_view_module_version": "1.2.0",
            "_view_name": "StyleView",
            "description_width": ""
          }
        },
        "e5417f183502472a9222b0f03148e5e7": {
          "model_module": "@jupyter-widgets/controls",
          "model_name": "HBoxModel",
          "model_module_version": "1.5.0",
          "state": {
            "_dom_classes": [],
            "_model_module": "@jupyter-widgets/controls",
            "_model_module_version": "1.5.0",
            "_model_name": "HBoxModel",
            "_view_count": null,
            "_view_module": "@jupyter-widgets/controls",
            "_view_module_version": "1.5.0",
            "_view_name": "HBoxView",
            "box_style": "",
            "children": [
              "IPY_MODEL_c0a4ec1ae57e4ae6a98a1be378b30c5e",
              "IPY_MODEL_65e2558ee5a74bfb9b1f0ca0f2570eda",
              "IPY_MODEL_07a82615283a4d669a970fb719a8e2c7"
            ],
            "layout": "IPY_MODEL_1502a600c1e8481d8f6fd4afae70f8fb"
          }
        },
        "c0a4ec1ae57e4ae6a98a1be378b30c5e": {
          "model_module": "@jupyter-widgets/controls",
          "model_name": "HTMLModel",
          "model_module_version": "1.5.0",
          "state": {
            "_dom_classes": [],
            "_model_module": "@jupyter-widgets/controls",
            "_model_module_version": "1.5.0",
            "_model_name": "HTMLModel",
            "_view_count": null,
            "_view_module": "@jupyter-widgets/controls",
            "_view_module_version": "1.5.0",
            "_view_name": "HTMLView",
            "description": "",
            "description_tooltip": null,
            "layout": "IPY_MODEL_5960041397854109a85c6c50265d526c",
            "placeholder": "​",
            "style": "IPY_MODEL_cdbe934f9773465cab546660886827a5",
            "value": "vocab.json: 100%"
          }
        },
        "65e2558ee5a74bfb9b1f0ca0f2570eda": {
          "model_module": "@jupyter-widgets/controls",
          "model_name": "FloatProgressModel",
          "model_module_version": "1.5.0",
          "state": {
            "_dom_classes": [],
            "_model_module": "@jupyter-widgets/controls",
            "_model_module_version": "1.5.0",
            "_model_name": "FloatProgressModel",
            "_view_count": null,
            "_view_module": "@jupyter-widgets/controls",
            "_view_module_version": "1.5.0",
            "_view_name": "ProgressView",
            "bar_style": "success",
            "description": "",
            "description_tooltip": null,
            "layout": "IPY_MODEL_b5b4f814b919445394468fdd3ea63e83",
            "max": 898822,
            "min": 0,
            "orientation": "horizontal",
            "style": "IPY_MODEL_99295fb09d2b4627ae080e07dce6d234",
            "value": 898822
          }
        },
        "07a82615283a4d669a970fb719a8e2c7": {
          "model_module": "@jupyter-widgets/controls",
          "model_name": "HTMLModel",
          "model_module_version": "1.5.0",
          "state": {
            "_dom_classes": [],
            "_model_module": "@jupyter-widgets/controls",
            "_model_module_version": "1.5.0",
            "_model_name": "HTMLModel",
            "_view_count": null,
            "_view_module": "@jupyter-widgets/controls",
            "_view_module_version": "1.5.0",
            "_view_name": "HTMLView",
            "description": "",
            "description_tooltip": null,
            "layout": "IPY_MODEL_d42fd1ec3d7e46fc82ef64c3e161ac51",
            "placeholder": "​",
            "style": "IPY_MODEL_5c9dc4083ea44b5c95ffb6549502cbbf",
            "value": " 899k/899k [00:00&lt;00:00, 2.15MB/s]"
          }
        },
        "1502a600c1e8481d8f6fd4afae70f8fb": {
          "model_module": "@jupyter-widgets/base",
          "model_name": "LayoutModel",
          "model_module_version": "1.2.0",
          "state": {
            "_model_module": "@jupyter-widgets/base",
            "_model_module_version": "1.2.0",
            "_model_name": "LayoutModel",
            "_view_count": null,
            "_view_module": "@jupyter-widgets/base",
            "_view_module_version": "1.2.0",
            "_view_name": "LayoutView",
            "align_content": null,
            "align_items": null,
            "align_self": null,
            "border": null,
            "bottom": null,
            "display": null,
            "flex": null,
            "flex_flow": null,
            "grid_area": null,
            "grid_auto_columns": null,
            "grid_auto_flow": null,
            "grid_auto_rows": null,
            "grid_column": null,
            "grid_gap": null,
            "grid_row": null,
            "grid_template_areas": null,
            "grid_template_columns": null,
            "grid_template_rows": null,
            "height": null,
            "justify_content": null,
            "justify_items": null,
            "left": null,
            "margin": null,
            "max_height": null,
            "max_width": null,
            "min_height": null,
            "min_width": null,
            "object_fit": null,
            "object_position": null,
            "order": null,
            "overflow": null,
            "overflow_x": null,
            "overflow_y": null,
            "padding": null,
            "right": null,
            "top": null,
            "visibility": null,
            "width": null
          }
        },
        "5960041397854109a85c6c50265d526c": {
          "model_module": "@jupyter-widgets/base",
          "model_name": "LayoutModel",
          "model_module_version": "1.2.0",
          "state": {
            "_model_module": "@jupyter-widgets/base",
            "_model_module_version": "1.2.0",
            "_model_name": "LayoutModel",
            "_view_count": null,
            "_view_module": "@jupyter-widgets/base",
            "_view_module_version": "1.2.0",
            "_view_name": "LayoutView",
            "align_content": null,
            "align_items": null,
            "align_self": null,
            "border": null,
            "bottom": null,
            "display": null,
            "flex": null,
            "flex_flow": null,
            "grid_area": null,
            "grid_auto_columns": null,
            "grid_auto_flow": null,
            "grid_auto_rows": null,
            "grid_column": null,
            "grid_gap": null,
            "grid_row": null,
            "grid_template_areas": null,
            "grid_template_columns": null,
            "grid_template_rows": null,
            "height": null,
            "justify_content": null,
            "justify_items": null,
            "left": null,
            "margin": null,
            "max_height": null,
            "max_width": null,
            "min_height": null,
            "min_width": null,
            "object_fit": null,
            "object_position": null,
            "order": null,
            "overflow": null,
            "overflow_x": null,
            "overflow_y": null,
            "padding": null,
            "right": null,
            "top": null,
            "visibility": null,
            "width": null
          }
        },
        "cdbe934f9773465cab546660886827a5": {
          "model_module": "@jupyter-widgets/controls",
          "model_name": "DescriptionStyleModel",
          "model_module_version": "1.5.0",
          "state": {
            "_model_module": "@jupyter-widgets/controls",
            "_model_module_version": "1.5.0",
            "_model_name": "DescriptionStyleModel",
            "_view_count": null,
            "_view_module": "@jupyter-widgets/base",
            "_view_module_version": "1.2.0",
            "_view_name": "StyleView",
            "description_width": ""
          }
        },
        "b5b4f814b919445394468fdd3ea63e83": {
          "model_module": "@jupyter-widgets/base",
          "model_name": "LayoutModel",
          "model_module_version": "1.2.0",
          "state": {
            "_model_module": "@jupyter-widgets/base",
            "_model_module_version": "1.2.0",
            "_model_name": "LayoutModel",
            "_view_count": null,
            "_view_module": "@jupyter-widgets/base",
            "_view_module_version": "1.2.0",
            "_view_name": "LayoutView",
            "align_content": null,
            "align_items": null,
            "align_self": null,
            "border": null,
            "bottom": null,
            "display": null,
            "flex": null,
            "flex_flow": null,
            "grid_area": null,
            "grid_auto_columns": null,
            "grid_auto_flow": null,
            "grid_auto_rows": null,
            "grid_column": null,
            "grid_gap": null,
            "grid_row": null,
            "grid_template_areas": null,
            "grid_template_columns": null,
            "grid_template_rows": null,
            "height": null,
            "justify_content": null,
            "justify_items": null,
            "left": null,
            "margin": null,
            "max_height": null,
            "max_width": null,
            "min_height": null,
            "min_width": null,
            "object_fit": null,
            "object_position": null,
            "order": null,
            "overflow": null,
            "overflow_x": null,
            "overflow_y": null,
            "padding": null,
            "right": null,
            "top": null,
            "visibility": null,
            "width": null
          }
        },
        "99295fb09d2b4627ae080e07dce6d234": {
          "model_module": "@jupyter-widgets/controls",
          "model_name": "ProgressStyleModel",
          "model_module_version": "1.5.0",
          "state": {
            "_model_module": "@jupyter-widgets/controls",
            "_model_module_version": "1.5.0",
            "_model_name": "ProgressStyleModel",
            "_view_count": null,
            "_view_module": "@jupyter-widgets/base",
            "_view_module_version": "1.2.0",
            "_view_name": "StyleView",
            "bar_color": null,
            "description_width": ""
          }
        },
        "d42fd1ec3d7e46fc82ef64c3e161ac51": {
          "model_module": "@jupyter-widgets/base",
          "model_name": "LayoutModel",
          "model_module_version": "1.2.0",
          "state": {
            "_model_module": "@jupyter-widgets/base",
            "_model_module_version": "1.2.0",
            "_model_name": "LayoutModel",
            "_view_count": null,
            "_view_module": "@jupyter-widgets/base",
            "_view_module_version": "1.2.0",
            "_view_name": "LayoutView",
            "align_content": null,
            "align_items": null,
            "align_self": null,
            "border": null,
            "bottom": null,
            "display": null,
            "flex": null,
            "flex_flow": null,
            "grid_area": null,
            "grid_auto_columns": null,
            "grid_auto_flow": null,
            "grid_auto_rows": null,
            "grid_column": null,
            "grid_gap": null,
            "grid_row": null,
            "grid_template_areas": null,
            "grid_template_columns": null,
            "grid_template_rows": null,
            "height": null,
            "justify_content": null,
            "justify_items": null,
            "left": null,
            "margin": null,
            "max_height": null,
            "max_width": null,
            "min_height": null,
            "min_width": null,
            "object_fit": null,
            "object_position": null,
            "order": null,
            "overflow": null,
            "overflow_x": null,
            "overflow_y": null,
            "padding": null,
            "right": null,
            "top": null,
            "visibility": null,
            "width": null
          }
        },
        "5c9dc4083ea44b5c95ffb6549502cbbf": {
          "model_module": "@jupyter-widgets/controls",
          "model_name": "DescriptionStyleModel",
          "model_module_version": "1.5.0",
          "state": {
            "_model_module": "@jupyter-widgets/controls",
            "_model_module_version": "1.5.0",
            "_model_name": "DescriptionStyleModel",
            "_view_count": null,
            "_view_module": "@jupyter-widgets/base",
            "_view_module_version": "1.2.0",
            "_view_name": "StyleView",
            "description_width": ""
          }
        },
        "7ae71b8cb9e945678eb4087e761ed47d": {
          "model_module": "@jupyter-widgets/controls",
          "model_name": "HBoxModel",
          "model_module_version": "1.5.0",
          "state": {
            "_dom_classes": [],
            "_model_module": "@jupyter-widgets/controls",
            "_model_module_version": "1.5.0",
            "_model_name": "HBoxModel",
            "_view_count": null,
            "_view_module": "@jupyter-widgets/controls",
            "_view_module_version": "1.5.0",
            "_view_name": "HBoxView",
            "box_style": "",
            "children": [
              "IPY_MODEL_0bd1eb43fbb0425c9a92f49589daf286",
              "IPY_MODEL_48c2195ba8e14f8d9ccaaa378fad43e4",
              "IPY_MODEL_79a2b2d2ba0a4b7ca5a152e822fb8c61"
            ],
            "layout": "IPY_MODEL_91877d758d72488d93c0bd1b614d60b2"
          }
        },
        "0bd1eb43fbb0425c9a92f49589daf286": {
          "model_module": "@jupyter-widgets/controls",
          "model_name": "HTMLModel",
          "model_module_version": "1.5.0",
          "state": {
            "_dom_classes": [],
            "_model_module": "@jupyter-widgets/controls",
            "_model_module_version": "1.5.0",
            "_model_name": "HTMLModel",
            "_view_count": null,
            "_view_module": "@jupyter-widgets/controls",
            "_view_module_version": "1.5.0",
            "_view_name": "HTMLView",
            "description": "",
            "description_tooltip": null,
            "layout": "IPY_MODEL_d1d325f760f14dbeb218de9788221efa",
            "placeholder": "​",
            "style": "IPY_MODEL_1de32ff263394cda88631653869beb14",
            "value": "merges.txt: 100%"
          }
        },
        "48c2195ba8e14f8d9ccaaa378fad43e4": {
          "model_module": "@jupyter-widgets/controls",
          "model_name": "FloatProgressModel",
          "model_module_version": "1.5.0",
          "state": {
            "_dom_classes": [],
            "_model_module": "@jupyter-widgets/controls",
            "_model_module_version": "1.5.0",
            "_model_name": "FloatProgressModel",
            "_view_count": null,
            "_view_module": "@jupyter-widgets/controls",
            "_view_module_version": "1.5.0",
            "_view_name": "ProgressView",
            "bar_style": "success",
            "description": "",
            "description_tooltip": null,
            "layout": "IPY_MODEL_eca81988e60e49b489a7506c67906969",
            "max": 456318,
            "min": 0,
            "orientation": "horizontal",
            "style": "IPY_MODEL_68dbebd1f69f43c5801a390eef0d1777",
            "value": 456318
          }
        },
        "79a2b2d2ba0a4b7ca5a152e822fb8c61": {
          "model_module": "@jupyter-widgets/controls",
          "model_name": "HTMLModel",
          "model_module_version": "1.5.0",
          "state": {
            "_dom_classes": [],
            "_model_module": "@jupyter-widgets/controls",
            "_model_module_version": "1.5.0",
            "_model_name": "HTMLModel",
            "_view_count": null,
            "_view_module": "@jupyter-widgets/controls",
            "_view_module_version": "1.5.0",
            "_view_name": "HTMLView",
            "description": "",
            "description_tooltip": null,
            "layout": "IPY_MODEL_6b0f700fa0d64152beb6d43ff185c691",
            "placeholder": "​",
            "style": "IPY_MODEL_fcfbbf3c7a744f659bb22c434eadc356",
            "value": " 456k/456k [00:00&lt;00:00, 4.18MB/s]"
          }
        },
        "91877d758d72488d93c0bd1b614d60b2": {
          "model_module": "@jupyter-widgets/base",
          "model_name": "LayoutModel",
          "model_module_version": "1.2.0",
          "state": {
            "_model_module": "@jupyter-widgets/base",
            "_model_module_version": "1.2.0",
            "_model_name": "LayoutModel",
            "_view_count": null,
            "_view_module": "@jupyter-widgets/base",
            "_view_module_version": "1.2.0",
            "_view_name": "LayoutView",
            "align_content": null,
            "align_items": null,
            "align_self": null,
            "border": null,
            "bottom": null,
            "display": null,
            "flex": null,
            "flex_flow": null,
            "grid_area": null,
            "grid_auto_columns": null,
            "grid_auto_flow": null,
            "grid_auto_rows": null,
            "grid_column": null,
            "grid_gap": null,
            "grid_row": null,
            "grid_template_areas": null,
            "grid_template_columns": null,
            "grid_template_rows": null,
            "height": null,
            "justify_content": null,
            "justify_items": null,
            "left": null,
            "margin": null,
            "max_height": null,
            "max_width": null,
            "min_height": null,
            "min_width": null,
            "object_fit": null,
            "object_position": null,
            "order": null,
            "overflow": null,
            "overflow_x": null,
            "overflow_y": null,
            "padding": null,
            "right": null,
            "top": null,
            "visibility": null,
            "width": null
          }
        },
        "d1d325f760f14dbeb218de9788221efa": {
          "model_module": "@jupyter-widgets/base",
          "model_name": "LayoutModel",
          "model_module_version": "1.2.0",
          "state": {
            "_model_module": "@jupyter-widgets/base",
            "_model_module_version": "1.2.0",
            "_model_name": "LayoutModel",
            "_view_count": null,
            "_view_module": "@jupyter-widgets/base",
            "_view_module_version": "1.2.0",
            "_view_name": "LayoutView",
            "align_content": null,
            "align_items": null,
            "align_self": null,
            "border": null,
            "bottom": null,
            "display": null,
            "flex": null,
            "flex_flow": null,
            "grid_area": null,
            "grid_auto_columns": null,
            "grid_auto_flow": null,
            "grid_auto_rows": null,
            "grid_column": null,
            "grid_gap": null,
            "grid_row": null,
            "grid_template_areas": null,
            "grid_template_columns": null,
            "grid_template_rows": null,
            "height": null,
            "justify_content": null,
            "justify_items": null,
            "left": null,
            "margin": null,
            "max_height": null,
            "max_width": null,
            "min_height": null,
            "min_width": null,
            "object_fit": null,
            "object_position": null,
            "order": null,
            "overflow": null,
            "overflow_x": null,
            "overflow_y": null,
            "padding": null,
            "right": null,
            "top": null,
            "visibility": null,
            "width": null
          }
        },
        "1de32ff263394cda88631653869beb14": {
          "model_module": "@jupyter-widgets/controls",
          "model_name": "DescriptionStyleModel",
          "model_module_version": "1.5.0",
          "state": {
            "_model_module": "@jupyter-widgets/controls",
            "_model_module_version": "1.5.0",
            "_model_name": "DescriptionStyleModel",
            "_view_count": null,
            "_view_module": "@jupyter-widgets/base",
            "_view_module_version": "1.2.0",
            "_view_name": "StyleView",
            "description_width": ""
          }
        },
        "eca81988e60e49b489a7506c67906969": {
          "model_module": "@jupyter-widgets/base",
          "model_name": "LayoutModel",
          "model_module_version": "1.2.0",
          "state": {
            "_model_module": "@jupyter-widgets/base",
            "_model_module_version": "1.2.0",
            "_model_name": "LayoutModel",
            "_view_count": null,
            "_view_module": "@jupyter-widgets/base",
            "_view_module_version": "1.2.0",
            "_view_name": "LayoutView",
            "align_content": null,
            "align_items": null,
            "align_self": null,
            "border": null,
            "bottom": null,
            "display": null,
            "flex": null,
            "flex_flow": null,
            "grid_area": null,
            "grid_auto_columns": null,
            "grid_auto_flow": null,
            "grid_auto_rows": null,
            "grid_column": null,
            "grid_gap": null,
            "grid_row": null,
            "grid_template_areas": null,
            "grid_template_columns": null,
            "grid_template_rows": null,
            "height": null,
            "justify_content": null,
            "justify_items": null,
            "left": null,
            "margin": null,
            "max_height": null,
            "max_width": null,
            "min_height": null,
            "min_width": null,
            "object_fit": null,
            "object_position": null,
            "order": null,
            "overflow": null,
            "overflow_x": null,
            "overflow_y": null,
            "padding": null,
            "right": null,
            "top": null,
            "visibility": null,
            "width": null
          }
        },
        "68dbebd1f69f43c5801a390eef0d1777": {
          "model_module": "@jupyter-widgets/controls",
          "model_name": "ProgressStyleModel",
          "model_module_version": "1.5.0",
          "state": {
            "_model_module": "@jupyter-widgets/controls",
            "_model_module_version": "1.5.0",
            "_model_name": "ProgressStyleModel",
            "_view_count": null,
            "_view_module": "@jupyter-widgets/base",
            "_view_module_version": "1.2.0",
            "_view_name": "StyleView",
            "bar_color": null,
            "description_width": ""
          }
        },
        "6b0f700fa0d64152beb6d43ff185c691": {
          "model_module": "@jupyter-widgets/base",
          "model_name": "LayoutModel",
          "model_module_version": "1.2.0",
          "state": {
            "_model_module": "@jupyter-widgets/base",
            "_model_module_version": "1.2.0",
            "_model_name": "LayoutModel",
            "_view_count": null,
            "_view_module": "@jupyter-widgets/base",
            "_view_module_version": "1.2.0",
            "_view_name": "LayoutView",
            "align_content": null,
            "align_items": null,
            "align_self": null,
            "border": null,
            "bottom": null,
            "display": null,
            "flex": null,
            "flex_flow": null,
            "grid_area": null,
            "grid_auto_columns": null,
            "grid_auto_flow": null,
            "grid_auto_rows": null,
            "grid_column": null,
            "grid_gap": null,
            "grid_row": null,
            "grid_template_areas": null,
            "grid_template_columns": null,
            "grid_template_rows": null,
            "height": null,
            "justify_content": null,
            "justify_items": null,
            "left": null,
            "margin": null,
            "max_height": null,
            "max_width": null,
            "min_height": null,
            "min_width": null,
            "object_fit": null,
            "object_position": null,
            "order": null,
            "overflow": null,
            "overflow_x": null,
            "overflow_y": null,
            "padding": null,
            "right": null,
            "top": null,
            "visibility": null,
            "width": null
          }
        },
        "fcfbbf3c7a744f659bb22c434eadc356": {
          "model_module": "@jupyter-widgets/controls",
          "model_name": "DescriptionStyleModel",
          "model_module_version": "1.5.0",
          "state": {
            "_model_module": "@jupyter-widgets/controls",
            "_model_module_version": "1.5.0",
            "_model_name": "DescriptionStyleModel",
            "_view_count": null,
            "_view_module": "@jupyter-widgets/base",
            "_view_module_version": "1.2.0",
            "_view_name": "StyleView",
            "description_width": ""
          }
        }
      }
    }
  },
  "cells": [
    {
      "cell_type": "markdown",
      "metadata": {
        "id": "view-in-github",
        "colab_type": "text"
      },
      "source": [
        "<a href=\"https://colab.research.google.com/github/fsommers/ICMR24/blob/main/ICMR24_LayoutLMv3_1_DataProcessorAndDataExploration.ipynb\" target=\"_parent\"><img src=\"https://colab.research.google.com/assets/colab-badge.svg\" alt=\"Open In Colab\"/></a>"
      ]
    },
    {
      "cell_type": "markdown",
      "source": [
        "# Explore a Custom Document Dataset with the LayoutLMv3 Processor\n",
        "\n",
        "This example assumes that the custom document images are stored on Google Drive, in a `DOC_EXAMPLES/TRAINING` subdirectory.\n",
        "\n",
        "For each document label, there is a corresponding subdirectory named as the document label. Currently, there are 8 labels:\n",
        "\n",
        "* AZCONTRACT\n",
        "* BOOKSHEET\n",
        "* BUYERSGUIDE\n",
        "* CACONTRACT\n",
        "* CREDITAPP\n",
        "* INSURANCE\n",
        "* NVCONTRACT\n",
        "* OTHER (not used now)\n",
        "\n",
        "In each directory there are PDF documents.\n",
        "\n",
        "The goal is to build model that can classify unseen documents into any of these categories 8 categories.\n",
        "\n",
        "The LayoutLMv3 model requires the following input for each example:\n",
        "\n",
        "* The sequence of words on the page.\n",
        "* The bounding box of each word. For each word, there must be a corresponding bounding box. That means the length of the bounding boxes list must be the same as the length of the list of words.\n",
        "* The image of the page itself.\n",
        "\n",
        "In addition, the LayoutLM family of models requires that we normalize the bounding box coordinates to an image size of 1000.\n",
        "\n",
        "For this example, we will let the first page of each PDF determine the type of the document.\n",
        "\n",
        "Therefore, the first task is to obtain the first page of the PDF as an image. Since PDFs can contain both images as well as display instructions (\"non-image PDF\"), we will need to render the first page as an image at a given resolution (e.g., 300dpi):"
      ],
      "metadata": {
        "id": "CBVeEZCHIPg4"
      }
    },
    {
      "cell_type": "code",
      "source": [
        "import sys\n",
        "from pathlib import Path\n",
        "from tqdm import tqdm\n",
        "\n",
        "from google.colab import drive\n",
        "drive.mount('/content/drive')\n",
        "\n",
        "BASE_DIR = Path('/content/drive/MyDrive/DOC_EXAMPLES/TRAINING')\n",
        "\n",
        "DOCUMENT_LABELS = [\n",
        "    'AZCONTRACT',\n",
        "    'BOOKSHEET',\n",
        "    'BUYERSGUIDE',\n",
        "    'CACONTRACT',\n",
        "    'CREDITAPP',\n",
        "    'INSURANCE'\n",
        "]\n",
        "\n",
        "labels_dirs = { doc_label: BASE_DIR.joinpath(doc_label) for doc_label in DOCUMENT_LABELS }\n",
        "print(labels_dirs)"
      ],
      "metadata": {
        "colab": {
          "base_uri": "https://localhost:8080/"
        },
        "id": "cumpIAWJ52T5",
        "outputId": "483d25b2-70e4-4279-c949-b4abb24da178"
      },
      "execution_count": 33,
      "outputs": [
        {
          "output_type": "stream",
          "name": "stdout",
          "text": [
            "Drive already mounted at /content/drive; to attempt to forcibly remount, call drive.mount(\"/content/drive\", force_remount=True).\n",
            "{'AZCONTRACT': PosixPath('/content/drive/MyDrive/DOC_EXAMPLES/TRAINING/AZCONTRACT'), 'BOOKSHEET': PosixPath('/content/drive/MyDrive/DOC_EXAMPLES/TRAINING/BOOKSHEET'), 'BUYERSGUIDE': PosixPath('/content/drive/MyDrive/DOC_EXAMPLES/TRAINING/BUYERSGUIDE'), 'CACONTRACT': PosixPath('/content/drive/MyDrive/DOC_EXAMPLES/TRAINING/CACONTRACT'), 'CREDITAPP': PosixPath('/content/drive/MyDrive/DOC_EXAMPLES/TRAINING/CREDITAPP'), 'INSURANCE': PosixPath('/content/drive/MyDrive/DOC_EXAMPLES/TRAINING/INSURANCE')}\n"
          ]
        }
      ]
    },
    {
      "cell_type": "markdown",
      "source": [
        "Let's have a look at one of these images:"
      ],
      "metadata": {
        "id": "YAvj4_QGOApZ"
      }
    },
    {
      "cell_type": "code",
      "execution_count": null,
      "metadata": {
        "id": "pRaeRt3dILaY"
      },
      "outputs": [],
      "source": [
        "!pip install -qqq PyMuPDF"
      ]
    },
    {
      "cell_type": "code",
      "source": [
        "az_contracts = list(labels_dirs['AZCONTRACT'].glob('*.pdf'))\n",
        "\n",
        "import fitz\n",
        "import numpy as np\n",
        "from PIL import Image, ImageDraw, ImageFont\n",
        "\n",
        "\n",
        "pdf = fitz.open(az_contracts[0])\n",
        "pix = pdf.get_page_pixmap(0, dpi=300)\n",
        "# The rendered page pixmap returned from PyMuPDF is a 1-dimensional array. However, most image processing libraries\n",
        "# require a 3-dim array format where each pixel is represented by 3 values (r, g, b) for color images.\n",
        "# reshape() transforms the 1-dimensional array to a 3-dim array:\n",
        "# pix.height rows\n",
        "# pix.width columns\n",
        "# 3 channels\n",
        "image = np.frombuffer(pix.samples, dtype=np.uint8)\n",
        "image = image.reshape((pix.height, pix.width, 3))\n",
        "image = Image.fromarray(image)\n",
        "image"
      ],
      "metadata": {
        "id": "BS765EFLz4sa"
      },
      "execution_count": null,
      "outputs": []
    },
    {
      "cell_type": "markdown",
      "source": [
        "LayoutLMv3 relies on an external OCR process to obtain the page's word sequence as well as the sequence of word bounding boxes.\n",
        "\n",
        "LayoutLMv3 conveniently comes with a processor that can consume the image and construct a training example using the Tesseract OCR library under the hood.\n",
        "\n",
        "The OCR process can take a while to run on each page, and in practice it's more effective to cache the OCR output on disk. But for now, let's run the `LayoutLMv3Processor` on the above image. The Processor consumes a feature extractor and the tokenizer.\n",
        "\n",
        "Since the pretrained LayoutLMv3 model uses RoBERTa for the initial model weights for the text modality, we must follow RoBERTa's sequence length and truncate the text at 512 tokens. This could problems for longer documents, of course. However, for many business-type documents, this works out in practice, as the first few hundred tokens sufficiently describe the page. We ask the processor to return PyTorch tensors:"
      ],
      "metadata": {
        "id": "_NXd4wwaQC44"
      }
    },
    {
      "cell_type": "code",
      "source": [
        "! apt -qq install tesseract-ocr\n",
        "! apt -qq install libtesseract-dev"
      ],
      "metadata": {
        "id": "YBQScQK_Jkbj"
      },
      "execution_count": null,
      "outputs": []
    },
    {
      "cell_type": "code",
      "source": [
        "!pip install -qqq pytesseract\n",
        "!pip install -qqq Pillow"
      ],
      "metadata": {
        "id": "wSDQ9RrUGrlD"
      },
      "execution_count": null,
      "outputs": []
    },
    {
      "cell_type": "code",
      "source": [
        "from transformers import LayoutLMv3FeatureExtractor, LayoutLMv3TokenizerFast, LayoutLMv3Processor, LayoutLMv3ForSequenceClassification\n",
        "\n",
        "feature_extractor = LayoutLMv3FeatureExtractor(apply_ocr=True, ocr_lang=\"eng\") # Apply the OCR under the hood\n",
        "tokenizer = LayoutLMv3TokenizerFast.from_pretrained(\"microsoft/layoutlmv3-base\")\n",
        "processor = LayoutLMv3Processor(feature_extractor, tokenizer)\n",
        "\n",
        "encoding = processor(\n",
        "    image,\n",
        "    max_length=512,\n",
        "    padding=\"max_length\",\n",
        "    truncation=True,\n",
        "    return_tensors=\"pt\"\n",
        ")\n",
        "\n",
        "encoding.keys()"
      ],
      "metadata": {
        "colab": {
          "base_uri": "https://localhost:8080/",
          "height": 187,
          "referenced_widgets": [
            "f4fc3c20a5e84cd3a4c8565a267c0fd9",
            "b610f9b6c2cd487f9b23b223f3a2f2f7",
            "3ceff73ee0b949b1a151ad72d4c4bd3f",
            "21185138341f45fcb6342299cc75f1c8",
            "7560df2c07f148c4a2dcf544d1061fe7",
            "3ea1beee7e6645a2b97d7deb797c2290",
            "a3bb0e7e5e024411aeab673884818252",
            "aad6ea67e2c94703997b9bb3ee9f7404",
            "f59ab02cb9874d6591c4b989b135c02e",
            "93a65346f01245d6bdf5687ef0c89a8f",
            "7be0db0d606a428cbeb565a8f7024011",
            "e5417f183502472a9222b0f03148e5e7",
            "c0a4ec1ae57e4ae6a98a1be378b30c5e",
            "65e2558ee5a74bfb9b1f0ca0f2570eda",
            "07a82615283a4d669a970fb719a8e2c7",
            "1502a600c1e8481d8f6fd4afae70f8fb",
            "5960041397854109a85c6c50265d526c",
            "cdbe934f9773465cab546660886827a5",
            "b5b4f814b919445394468fdd3ea63e83",
            "99295fb09d2b4627ae080e07dce6d234",
            "d42fd1ec3d7e46fc82ef64c3e161ac51",
            "5c9dc4083ea44b5c95ffb6549502cbbf",
            "7ae71b8cb9e945678eb4087e761ed47d",
            "0bd1eb43fbb0425c9a92f49589daf286",
            "48c2195ba8e14f8d9ccaaa378fad43e4",
            "79a2b2d2ba0a4b7ca5a152e822fb8c61",
            "91877d758d72488d93c0bd1b614d60b2",
            "d1d325f760f14dbeb218de9788221efa",
            "1de32ff263394cda88631653869beb14",
            "eca81988e60e49b489a7506c67906969",
            "68dbebd1f69f43c5801a390eef0d1777",
            "6b0f700fa0d64152beb6d43ff185c691",
            "fcfbbf3c7a744f659bb22c434eadc356"
          ]
        },
        "id": "vNv3-aoY0SQk",
        "outputId": "8737170e-1d56-4df1-ab41-465cf4884b20"
      },
      "execution_count": null,
      "outputs": [
        {
          "output_type": "stream",
          "name": "stderr",
          "text": [
            "/usr/local/lib/python3.10/dist-packages/transformers/models/layoutlmv3/feature_extraction_layoutlmv3.py:30: FutureWarning: The class LayoutLMv3FeatureExtractor is deprecated and will be removed in version 5 of Transformers. Please use LayoutLMv3ImageProcessor instead.\n",
            "  warnings.warn(\n"
          ]
        },
        {
          "output_type": "display_data",
          "data": {
            "text/plain": [
              "tokenizer_config.json:   0%|          | 0.00/1.14k [00:00<?, ?B/s]"
            ],
            "application/vnd.jupyter.widget-view+json": {
              "version_major": 2,
              "version_minor": 0,
              "model_id": "f4fc3c20a5e84cd3a4c8565a267c0fd9"
            }
          },
          "metadata": {}
        },
        {
          "output_type": "display_data",
          "data": {
            "text/plain": [
              "vocab.json:   0%|          | 0.00/899k [00:00<?, ?B/s]"
            ],
            "application/vnd.jupyter.widget-view+json": {
              "version_major": 2,
              "version_minor": 0,
              "model_id": "e5417f183502472a9222b0f03148e5e7"
            }
          },
          "metadata": {}
        },
        {
          "output_type": "display_data",
          "data": {
            "text/plain": [
              "merges.txt:   0%|          | 0.00/456k [00:00<?, ?B/s]"
            ],
            "application/vnd.jupyter.widget-view+json": {
              "version_major": 2,
              "version_minor": 0,
              "model_id": "7ae71b8cb9e945678eb4087e761ed47d"
            }
          },
          "metadata": {}
        },
        {
          "output_type": "execute_result",
          "data": {
            "text/plain": [
              "dict_keys(['input_ids', 'attention_mask', 'bbox', 'pixel_values'])"
            ]
          },
          "metadata": {},
          "execution_count": 11
        }
      ]
    },
    {
      "cell_type": "markdown",
      "source": [
        "The processor produced a dictionary with these keys:\n",
        "\n",
        "* `input_ids`: The words in tokenized format.\n",
        "* `attention_mask`\n",
        "* `bbox`: Each element contains 4 values (left, top, right, bottom).\n",
        "* `pixel_values`: For the image embedding. 224x224 squares, 3 channels\n"
      ],
      "metadata": {
        "id": "Om0utIFsKmyH"
      }
    },
    {
      "cell_type": "code",
      "source": [
        "print(f\"\"\"\n",
        " input_ids: {list(encoding[\"input_ids\"].squeeze().shape)}\n",
        " word boxes: {list(encoding['bbox'].squeeze().shape)}\n",
        " image data: {list(encoding['pixel_values'].squeeze().shape)}\n",
        " image size: {image.size}\n",
        "\"\"\")"
      ],
      "metadata": {
        "colab": {
          "base_uri": "https://localhost:8080/"
        },
        "id": "Hxk83jYGKyRP",
        "outputId": "cdb12c13-3eb5-46e4-9a0b-b78fb79b2769"
      },
      "execution_count": null,
      "outputs": [
        {
          "output_type": "stream",
          "name": "stdout",
          "text": [
            "\n",
            " input_ids: [512]\n",
            " word boxes: [512, 4]\n",
            " image data: [3, 224, 224]\n",
            " image size: (2540, 4244)\n",
            "\n"
          ]
        }
      ]
    },
    {
      "cell_type": "markdown",
      "source": [
        "We can peak into the FeatureExtractor to get an insight of how it converts the provided image into the words and bounding boxes.\n",
        "\n",
        "`image_mean` and `image_std` are used for the image normalization."
      ],
      "metadata": {
        "id": "ua2WPNKZUWyZ"
      }
    },
    {
      "cell_type": "code",
      "source": [
        "feature_extractor"
      ],
      "metadata": {
        "colab": {
          "base_uri": "https://localhost:8080/"
        },
        "id": "3hp9bs7DLxRt",
        "outputId": "13bc95c7-b0dd-42c3-8ddb-9ebedda76618"
      },
      "execution_count": null,
      "outputs": [
        {
          "output_type": "execute_result",
          "data": {
            "text/plain": [
              "LayoutLMv3FeatureExtractor {\n",
              "  \"_valid_processor_keys\": [\n",
              "    \"images\",\n",
              "    \"do_resize\",\n",
              "    \"size\",\n",
              "    \"resample\",\n",
              "    \"do_rescale\",\n",
              "    \"rescale_factor\",\n",
              "    \"do_normalize\",\n",
              "    \"image_mean\",\n",
              "    \"image_std\",\n",
              "    \"apply_ocr\",\n",
              "    \"ocr_lang\",\n",
              "    \"tesseract_config\",\n",
              "    \"return_tensors\",\n",
              "    \"data_format\",\n",
              "    \"input_data_format\"\n",
              "  ],\n",
              "  \"apply_ocr\": true,\n",
              "  \"do_normalize\": true,\n",
              "  \"do_rescale\": true,\n",
              "  \"do_resize\": true,\n",
              "  \"image_mean\": [\n",
              "    0.5,\n",
              "    0.5,\n",
              "    0.5\n",
              "  ],\n",
              "  \"image_processor_type\": \"LayoutLMv3FeatureExtractor\",\n",
              "  \"image_std\": [\n",
              "    0.5,\n",
              "    0.5,\n",
              "    0.5\n",
              "  ],\n",
              "  \"ocr_lang\": \"eng\",\n",
              "  \"resample\": 2,\n",
              "  \"rescale_factor\": 0.00392156862745098,\n",
              "  \"size\": {\n",
              "    \"height\": 224,\n",
              "    \"width\": 224\n",
              "  },\n",
              "  \"tesseract_config\": \"\"\n",
              "}"
            ]
          },
          "metadata": {},
          "execution_count": 13
        }
      ]
    },
    {
      "cell_type": "code",
      "source": [
        "features = feature_extractor(image)\n",
        "print(features.keys())\n",
        "\n",
        "print(f\"\"\"\n",
        " image size: {features[\"pixel_values\"][0].shape}\n",
        " word count: {(len(features[\"words\"][0]))}\n",
        " word boxes: {len(features[\"boxes\"][0])}\n",
        "\"\"\")\n",
        "\n",
        "print(features[\"boxes\"][0][:5]) # the first 5 words\n",
        "\n",
        "print(features[\"words\"][0][:5]) # The first 5 corresponding bounding boxes"
      ],
      "metadata": {
        "id": "Ljx1ofT1MMoO",
        "colab": {
          "base_uri": "https://localhost:8080/"
        },
        "outputId": "c2545b57-db08-4d64-9822-244264212b0e"
      },
      "execution_count": null,
      "outputs": [
        {
          "output_type": "stream",
          "name": "stdout",
          "text": [
            "dict_keys(['pixel_values', 'words', 'boxes'])\n",
            "\n",
            " image size: (3, 224, 224)\n",
            " word count: 1096\n",
            " word boxes: 1096\n",
            "\n",
            "[[212, 16, 301, 31], [312, 16, 678, 35], [694, 16, 789, 32], [225, 46, 282, 53], [288, 46, 401, 54]]\n",
            "['AAW', '553-AZ-ARB-eps-14', '11/23', 'RETAIL', 'INSTALLMENT']\n"
          ]
        }
      ]
    },
    {
      "cell_type": "markdown",
      "source": [
        "We can also take a look at how the model sees the image:"
      ],
      "metadata": {
        "id": "uMDAw7HgVqwn"
      }
    },
    {
      "cell_type": "code",
      "source": [
        "image_data = features[\"pixel_values\"][0]\n",
        "print(image_data.shape)\n",
        "\n",
        "# Transpose and put the image channels at the back\n",
        "image_data = image_data.transpose(1, 2, 0)\n",
        "print(image_data.shape)\n",
        "\n",
        "# This array is floats, to display it we need to convert it to integers ranging from 0 to 255\n",
        "print(image_data[0][0])\n",
        "\n",
        "image_data = np.uint8(image_data * 255)\n",
        "print(image_data[0][0])\n",
        "\n",
        "Image.fromarray(image_data, mode='RGB')\n"
      ],
      "metadata": {
        "colab": {
          "base_uri": "https://localhost:8080/",
          "height": 313
        },
        "id": "-BHSABSaNGkp",
        "outputId": "6bcdf043-d408-427f-8a42-dbb86c1c37eb"
      },
      "execution_count": null,
      "outputs": [
        {
          "output_type": "stream",
          "name": "stdout",
          "text": [
            "(3, 224, 224)\n",
            "(224, 224, 3)\n",
            "[1. 1. 1.]\n",
            "[255 255 255]\n"
          ]
        },
        {
          "output_type": "execute_result",
          "data": {
            "text/plain": [
              "<PIL.Image.Image image mode=RGB size=224x224>"
            ],
            "image/png": "[encoded data removed]"
          },
          "metadata": {},
          "execution_count": 15
        }
      ]
    },
    {
      "cell_type": "markdown",
      "source": [
        "We can display the OCR bounding boxes on the image:\n"
      ],
      "metadata": {
        "id": "VX6KWTMzr5cg"
      }
    },
    {
      "cell_type": "code",
      "source": [
        "bounding_boxes = features[\"boxes\"][0]\n",
        "words = features[\"words\"][0]\n",
        "\n",
        "az_contracts = list(labels_dirs['AZCONTRACT'].glob('*.pdf'))\n",
        "\n",
        "from PIL import Image, ImageDraw, ImageFont\n",
        "\n",
        "pdf = fitz.open(az_contracts[0])\n",
        "pix = pdf.get_page_pixmap(0, dpi=300)\n",
        "image = np.frombuffer(pix.samples, dtype=np.uint8)\n",
        "image = image.reshape((pix.height, pix.width, 3))\n",
        "image = Image.fromarray(image)\n",
        "\n",
        "width_scale = image.width / 1000\n",
        "height_scale = image.height / 1000\n",
        "\n",
        "draw = ImageDraw.Draw(image)\n",
        "\n",
        "for bbox in bounding_boxes:\n",
        "  draw.rectangle(\n",
        "      [\n",
        "          bbox[0] * width_scale,\n",
        "          bbox[1] * height_scale,\n",
        "          bbox[2] * width_scale,\n",
        "          bbox[3] * height_scale,\n",
        "      ],\n",
        "      outline='blue',\n",
        "      width=2\n",
        "  )\n",
        "image"
      ],
      "metadata": {
        "id": "RmMjdCTCOjQh"
      },
      "execution_count": null,
      "outputs": []
    },
    {
      "cell_type": "markdown",
      "source": [
        "Finally, let's take a look at the `LayoutLMv3Tokenizer`. We can see that vocabulary size is 50265 and the max sequence length is 512, both of which come from RoBERTa, as do the special tokens:"
      ],
      "metadata": {
        "id": "xUYAxU0QZLOn"
      }
    },
    {
      "cell_type": "code",
      "source": [
        "print(tokenizer)"
      ],
      "metadata": {
        "colab": {
          "base_uri": "https://localhost:8080/"
        },
        "id": "NnPCHmu0tIaj",
        "outputId": "c9e43c4d-a7b1-49d5-aa16-09aec8417dba"
      },
      "execution_count": null,
      "outputs": [
        {
          "output_type": "stream",
          "name": "stdout",
          "text": [
            "LayoutLMv3TokenizerFast(name_or_path='microsoft/layoutlmv3-base', vocab_size=50265, model_max_length=512, is_fast=True, padding_side='right', truncation_side='right', special_tokens={'bos_token': '<s>', 'eos_token': '</s>', 'unk_token': '<unk>', 'sep_token': '</s>', 'pad_token': '<pad>', 'cls_token': '<s>', 'mask_token': '<mask>'}, clean_up_tokenization_spaces=True),  added_tokens_decoder={\n",
            "\t0: AddedToken(\"<s>\", rstrip=False, lstrip=False, single_word=False, normalized=True, special=True),\n",
            "\t1: AddedToken(\"<pad>\", rstrip=False, lstrip=False, single_word=False, normalized=True, special=True),\n",
            "\t2: AddedToken(\"</s>\", rstrip=False, lstrip=False, single_word=False, normalized=True, special=True),\n",
            "\t3: AddedToken(\"<unk>\", rstrip=False, lstrip=False, single_word=False, normalized=True, special=True),\n",
            "\t50264: AddedToken(\"<mask>\", rstrip=False, lstrip=True, single_word=False, normalized=True, special=True),\n",
            "}\n"
          ]
        }
      ]
    },
    {
      "cell_type": "code",
      "source": [
        "encoding = tokenizer(\n",
        "    text=words,\n",
        "    boxes=bounding_boxes,\n",
        "    max_length=512,\n",
        "    padding=\"max_length\",\n",
        "    truncation=True,\n",
        "    return_tensors=\"pt\"\n",
        ")\n",
        "\n",
        "print(encoding.keys())\n",
        "\n",
        "tokens = tokenizer.convert_ids_to_tokens(\n",
        "    encoding[\"input_ids\"][0],\n",
        "    skip_special_tokens=True\n",
        ")\n",
        "print(tokens[:20]) # The first 20 tokens"
      ],
      "metadata": {
        "colab": {
          "base_uri": "https://localhost:8080/"
        },
        "id": "i2UVW1Uytq4l",
        "outputId": "513521a6-877d-416d-f3d5-669184c3850b"
      },
      "execution_count": null,
      "outputs": [
        {
          "output_type": "stream",
          "name": "stdout",
          "text": [
            "dict_keys(['input_ids', 'attention_mask', 'bbox'])\n",
            "['ĠA', 'AW', 'Ġ5', '53', '-', 'AZ', '-', 'ARB', '-', 'eps', '-', '14', 'Ġ11', '/', '23', 'ĠR', 'ETA', 'IL', 'ĠINST', 'ALL']\n"
          ]
        }
      ]
    },
    {
      "cell_type": "markdown",
      "source": [
        "We can convert these tokens back to strings to see what the first 20 tokens look like:"
      ],
      "metadata": {
        "id": "IQRiwM4ecNEb"
      }
    },
    {
      "cell_type": "code",
      "source": [
        "tokenizer.convert_tokens_to_string(tokens[:20])"
      ],
      "metadata": {
        "colab": {
          "base_uri": "https://localhost:8080/",
          "height": 35
        },
        "id": "bhwZZ9xgu_Dq",
        "outputId": "f5be82fd-8353-422b-fd79-7d56dc5d8b49"
      },
      "execution_count": null,
      "outputs": [
        {
          "output_type": "execute_result",
          "data": {
            "text/plain": [
              "' AAW 553-AZ-ARB-eps-14 11/23 RETAIL INSTALL'"
            ],
            "application/vnd.google.colaboratory.intrinsic+json": {
              "type": "string"
            }
          },
          "metadata": {},
          "execution_count": 23
        }
      ]
    },
    {
      "cell_type": "markdown",
      "source": [
        "## Passing an Example to the Model\n",
        "\n",
        "Having explored the Processor and the Tokenizer, let's now pass an example to the model and see the model's output. We load the model so that we can take a look at the last hidden state once we process the example:"
      ],
      "metadata": {
        "id": "exc74JmNcXUs"
      }
    },
    {
      "cell_type": "code",
      "source": [
        "model = LayoutLMv3ForSequenceClassification.from_pretrained(\"microsoft/layoutlmv3-base\", output_hidden_states=True)\n",
        "\n",
        "print(model.config)"
      ],
      "metadata": {
        "colab": {
          "base_uri": "https://localhost:8080/"
        },
        "id": "yQo-rCptvkpW",
        "outputId": "7b547386-7bb3-44de-d807-8156c4e17f0f"
      },
      "execution_count": null,
      "outputs": [
        {
          "output_type": "stream",
          "name": "stderr",
          "text": [
            "Some weights of LayoutLMv3ForSequenceClassification were not initialized from the model checkpoint at microsoft/layoutlmv3-base and are newly initialized: ['classifier.dense.bias', 'classifier.dense.weight', 'classifier.out_proj.bias', 'classifier.out_proj.weight']\n",
            "You should probably TRAIN this model on a down-stream task to be able to use it for predictions and inference.\n"
          ]
        },
        {
          "output_type": "stream",
          "name": "stdout",
          "text": [
            "LayoutLMv3Config {\n",
            "  \"_name_or_path\": \"microsoft/layoutlmv3-base\",\n",
            "  \"attention_probs_dropout_prob\": 0.1,\n",
            "  \"bos_token_id\": 0,\n",
            "  \"classifier_dropout\": null,\n",
            "  \"coordinate_size\": 128,\n",
            "  \"eos_token_id\": 2,\n",
            "  \"has_relative_attention_bias\": true,\n",
            "  \"has_spatial_attention_bias\": true,\n",
            "  \"hidden_act\": \"gelu\",\n",
            "  \"hidden_dropout_prob\": 0.1,\n",
            "  \"hidden_size\": 768,\n",
            "  \"initializer_range\": 0.02,\n",
            "  \"input_size\": 224,\n",
            "  \"intermediate_size\": 3072,\n",
            "  \"layer_norm_eps\": 1e-05,\n",
            "  \"max_2d_position_embeddings\": 1024,\n",
            "  \"max_position_embeddings\": 514,\n",
            "  \"max_rel_2d_pos\": 256,\n",
            "  \"max_rel_pos\": 128,\n",
            "  \"model_type\": \"layoutlmv3\",\n",
            "  \"num_attention_heads\": 12,\n",
            "  \"num_channels\": 3,\n",
            "  \"num_hidden_layers\": 12,\n",
            "  \"output_hidden_states\": true,\n",
            "  \"pad_token_id\": 1,\n",
            "  \"patch_size\": 16,\n",
            "  \"rel_2d_pos_bins\": 64,\n",
            "  \"rel_pos_bins\": 32,\n",
            "  \"second_input_size\": 112,\n",
            "  \"shape_size\": 128,\n",
            "  \"text_embed\": true,\n",
            "  \"torch_dtype\": \"float32\",\n",
            "  \"transformers_version\": \"4.41.1\",\n",
            "  \"type_vocab_size\": 1,\n",
            "  \"visual_embed\": true,\n",
            "  \"vocab_size\": 50265\n",
            "}\n",
            "\n"
          ]
        }
      ]
    },
    {
      "cell_type": "markdown",
      "source": [
        "We see that the LayoutLMv3BASE model contains 12 hidden layers."
      ],
      "metadata": {
        "id": "lIYdCGuoc-yk"
      }
    },
    {
      "cell_type": "code",
      "source": [
        "encoding = processor(\n",
        "    image,\n",
        "    max_length=512,\n",
        "    padding=\"max_length\",\n",
        "    truncation=True,\n",
        "    return_tensors=\"pt\"\n",
        ")\n",
        "outputs = model(**encoding)\n",
        "print(outputs)"
      ],
      "metadata": {
        "id": "CL0Tox1jwGGu"
      },
      "execution_count": null,
      "outputs": []
    },
    {
      "cell_type": "markdown",
      "source": [
        "Hidden states is a list of tensors. Each tensor represents the hidden state at a specific layer.\n",
        "\n",
        "The last hidden state is often used as a representation of the input.\n",
        "It's common to use it as the input to a classification head or other downstream tasks.\n",
        "\n",
        "Let's take a look at the last hidden state tensor:"
      ],
      "metadata": {
        "id": "tYHpwBjDxj-K"
      }
    },
    {
      "cell_type": "code",
      "source": [
        "last_hidden_state = outputs.hidden_states[-1]\n",
        "print(last_hidden_state)"
      ],
      "metadata": {
        "colab": {
          "base_uri": "https://localhost:8080/"
        },
        "id": "Hw9KLWaLyL4d",
        "outputId": "f15cda96-6891-4184-86cf-1b9093fedfa5"
      },
      "execution_count": null,
      "outputs": [
        {
          "output_type": "stream",
          "name": "stdout",
          "text": [
            "tensor([[[-0.1382, -0.0150, -0.3747,  ..., -0.3055, -0.1702,  0.1277],\n",
            "         [-0.1468, -0.0309, -0.1737,  ..., -0.3381, -0.0844,  0.1438],\n",
            "         [ 0.4533, -0.6463, -0.2152,  ...,  0.4620, -0.4765, -0.1901],\n",
            "         ...,\n",
            "         [ 0.0653,  0.2503,  0.0578,  ..., -0.4706, -0.0636,  0.1991],\n",
            "         [ 0.0963,  0.2337, -0.1197,  ..., -0.4955, -0.1598, -0.1202],\n",
            "         [-0.1101,  0.3288,  0.1093,  ..., -0.3181,  0.0400, -0.3739]]],\n",
            "       grad_fn=<NativeLayerNormBackward0>)\n"
          ]
        }
      ]
    },
    {
      "cell_type": "markdown",
      "source": [
        "Finally, let's take a look at the raw logits of the output:"
      ],
      "metadata": {
        "id": "Y7p7OyW8fGUc"
      }
    },
    {
      "cell_type": "code",
      "source": [
        "outputs.logits"
      ],
      "metadata": {
        "colab": {
          "base_uri": "https://localhost:8080/"
        },
        "id": "k5ygpCe3ymiO",
        "outputId": "356f9327-6641-40ca-9c2d-b3a9e47c9ddf"
      },
      "execution_count": null,
      "outputs": [
        {
          "output_type": "execute_result",
          "data": {
            "text/plain": [
              "tensor([[ 0.1778, -0.1404]], grad_fn=<AddmmBackward0>)"
            ]
          },
          "metadata": {},
          "execution_count": 32
        }
      ]
    },
    {
      "cell_type": "markdown",
      "source": [
        "This model only has 2 classes. This makes sense, since the model doesn't know our data."
      ],
      "metadata": {
        "id": "jHanG5Tsyw0E"
      }
    }
  ]
}