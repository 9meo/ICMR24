{
  "cells": [
    {
      "cell_type": "markdown",
      "metadata": {
        "id": "view-in-github",
        "colab_type": "text"
      },
      "source": [
        "<a href=\"https://colab.research.google.com/github/fsommers/ICMR24/blob/main/ICRM24_LayoutLMv3_2_CreateDataset.ipynb\" target=\"_parent\"><img src=\"https://colab.research.google.com/assets/colab-badge.svg\" alt=\"Open In Colab\"/></a>"
      ]
    },
    {
      "cell_type": "markdown",
      "metadata": {
        "id": "CBVeEZCHIPg4"
      },
      "source": [
        "# Create a PyTorch Dataset for the Custom Document Images\n",
        "\n",
        "While LayoutLMv3Processor conveniently includes the option to perform OCR on the input image, in practice it's more effective to preprocess the training data documents. Since the OCR process introduces significantly processing time to the pipeline, OCR'ing images on demand would consume additional expensive GPU minutes.\n",
        "\n",
        "In this notebook, we will prepare our document data, and define a PyTorch train and test dataset for our data and save these datasets in the `DOC_DATA` directory on the Google Drive.\n",
        "\n",
        "We prepare the document data as follows:\n",
        "\n",
        "* Extract the first page of each PDF document. We save this image with the same base filename as the PDF, but with a JPG file extension.\n",
        "\n",
        "* In addition, we OCR each page, and save the result words and corresponding bounding boxes as a JSON data file. This file share the same base file name with the PDF images, too, but the file extension is now .json.\n",
        "\n",
        "* Define a PyTorch Dataset. This dataset returns the prepared document data examples the Dataloader that then provides the examples to the model.\n",
        "\n",
        "Again, we need to install Tesseract OCR and it's Python bindings:"
      ]
    },
    {
      "cell_type": "code",
      "execution_count": null,
      "metadata": {
        "id": "YBQScQK_Jkbj"
      },
      "outputs": [],
      "source": [
        "! apt -qq install tesseract-ocr\n",
        "! apt -qq install libtesseract-dev"
      ]
    },
    {
      "cell_type": "code",
      "execution_count": null,
      "metadata": {
        "id": "wSDQ9RrUGrlD"
      },
      "outputs": [],
      "source": [
        "!pip -qqq install pytesseract\n",
        "!pip -qqq install Pillow\n",
        "!pip -qqq install PyMuPDF"
      ]
    },
    {
      "cell_type": "markdown",
      "metadata": {
        "id": "K0sejRWJw17P"
      },
      "source": [
        "As in the previous notebook, this example assumes that the custom document images are stored on Google Drive, in a DOC_EXAMPLES/TRAINING subdirectory.\n",
        "\n",
        "For each document label, there is a corresponding subdirectory named as the document label. Currently, there are 8 labels:\n",
        "\n",
        "* AZCONTRACT\n",
        "* BOOKSHEET\n",
        "* BUYERSGUIDE\n",
        "* CACONTRACT\n",
        "* CREDITAPP\n",
        "* INSURANCE\n",
        "* NVCONTRACT\n",
        "\n",
        "In each directory there are PDF documents.\n",
        "\n",
        "We'll import some libraries first:"
      ]
    },
    {
      "cell_type": "code",
      "execution_count": null,
      "metadata": {
        "id": "mmcBrsBEjvdm"
      },
      "outputs": [],
      "source": [
        "import sys\n",
        "from pathlib import Path\n",
        "from tqdm import tqdm\n",
        "from pathlib import Path\n",
        "from typing import List\n",
        "\n",
        "import fitz\n",
        "import numpy as np\n",
        "import pandas as pd\n",
        "import cv2\n",
        "import pytesseract\n",
        "from PIL import Image, ImageDraw, ImageFont\n",
        "import matplotlib.pyplot as plt\n",
        "\n",
        "import json\n",
        "\n",
        "import torch\n",
        "import torchvision.transforms as T\n",
        "from torch.utils.data import Dataset, DataLoader\n",
        "from sklearn.model_selection import train_test_split\n",
        "\n",
        "%matplotlib inline\n",
        "\n",
        "from google.colab import drive\n",
        "drive.mount('/content/drive')"
      ]
    },
    {
      "cell_type": "markdown",
      "metadata": {
        "id": "QKwNFeYwf-z4"
      },
      "source": [
        "Some environment variables:"
      ]
    },
    {
      "cell_type": "code",
      "execution_count": null,
      "metadata": {
        "id": "cumpIAWJ52T5"
      },
      "outputs": [],
      "source": [
        "BASE_DIR = Path('/content/drive/MyDrive')\n",
        "\n",
        "EXAMPLES_DIR = Path(BASE_DIR / 'DOC_EXAMPLES' / 'TRAINING')\n",
        "UNSEEN_DIR = Path(BASE_DIR / 'DOC_EXAMPLES' / 'UNSEEN')\n",
        "DATASET_DIR = Path(BASE_DIR / 'DOC_DATA')\n",
        "LOG_DIR = Path(BASE_DIR / 'DOC_LOGS')\n",
        "MODELS_DIR = Path(BASE_DIR / 'DOC_MODELS')\n",
        "\n",
        "\n",
        "DOCUMENT_LABELS = [\n",
        "    'AZCONTRACT',\n",
        "    'BUYERSGUIDE',\n",
        "    'CACONTRACT',\n",
        "    'CREDITAPP',\n",
        "    'NVCONTRACT',\n",
        "    'BOOKSHEET',\n",
        "    'INSURANCE'\n",
        "]\n",
        "\n",
        "# The assumption is that training documents are pre-categorized and collected into subdirectories,\n",
        "# with directory names corresponding to the document class names\n",
        "training_dirs = { doc_label: EXAMPLES_DIR.joinpath(doc_label) for doc_label in DOCUMENT_LABELS }\n",
        "print(training_dirs)\n",
        "\n",
        "unseen_dirs = { doc_label: UNSEEN_DIR.joinpath(doc_label) for doc_label in DOCUMENT_LABELS }\n",
        "print(unseen_dirs)\n",
        "\n",
        "# We will need to keep a stable ordering of the class labels.\n",
        "DOCUMENT_CLASSES = sorted(training_dirs.keys())\n",
        "print(DOCUMENT_CLASSES)\n",
        "\n",
        "import PIL.Image\n",
        "PIL.Image.MAX_IMAGE_PIXELS = 503120000 # this is needed in case of larger images"
      ]
    },
    {
      "cell_type": "markdown",
      "metadata": {
        "id": "7MwqYu3_tiDP"
      },
      "source": [
        "These functions are to take an PDF file, obtain the first PDF pages as JPG images, save that image, OCR that images, and finally to save the OCR results."
      ]
    },
    {
      "cell_type": "code",
      "execution_count": null,
      "metadata": {
        "id": "aCDaL7OtthS9"
      },
      "outputs": [],
      "source": [
        "def save_page_as_jpeg(im_file: Path, page: int):\n",
        "  \"\"\"\n",
        "  Convert the specified page of the given PDF to a JPG images.\n",
        "  Save the JPG with the same file name as the original PDF, but with a .jpg suffix.\n",
        "  \"\"\"\n",
        "  with fitz.open(im_file) as pdf:\n",
        "    pix = pdf.get_page_pixmap(page, dpi=300)\n",
        "    pix.save(im_file.with_suffix('.jpg'))\n",
        "\n",
        "TESS_OPTIONS = \"--psm 3\" # Automatic page segmentation for Tesseract\n",
        "\n",
        "def ocr_page(jpg_file: Path) -> dict:\n",
        "  \"\"\"\n",
        "  OCR a given image. Return a dictionary of words and the bounding boxes\n",
        "  for each word. For each word, there is a corresponding bounding box.\n",
        "  \"\"\"\n",
        "  with Image.open(jpg_file) as image:\n",
        "    ocr_df = pytesseract.image_to_data(image, output_type='data.frame', config=TESS_OPTIONS)\n",
        "    ocr_df = ocr_df.dropna().reset_index(drop=True)\n",
        "    float_cols = ocr_df.select_dtypes('float').columns\n",
        "    ocr_df[float_cols] = ocr_df[float_cols].round(0).astype(int)\n",
        "    ocr_df = ocr_df.replace(r'^\\s*$', np.nan, regex=True)\n",
        "    ocr_df = ocr_df.dropna().reset_index(drop=True)\n",
        "\n",
        "    words = list(ocr_df.text)\n",
        "    words = [str(w) for w in words]\n",
        "\n",
        "    coordinates = ocr_df[['left', 'top', 'width', 'height']]\n",
        "    boxes = []\n",
        "    for i, row in coordinates.iterrows():\n",
        "        x, y, w, h = tuple(row)\n",
        "        actual_box = [x, y, x + w, y + h]\n",
        "        boxes.append(actual_box)\n",
        "\n",
        "    assert len(words) == len(boxes)\n",
        "    return {\"bbox\": boxes, \"words\": words}\n",
        "\n",
        "def pdf_to_jpeg(files_dir: dict, page: int):\n",
        "  \"\"\"\n",
        "  Convert the specified page of each PDF file to JPG, in each folder inside the specified directory.\n",
        "  Page numbers start with 0\n",
        "  This will run for a long time.\n",
        "  \"\"\"\n",
        "  for label, p in files_dir.items():\n",
        "    for pdf in tqdm(list(p.glob('*.pdf'))):\n",
        "      save_page_as_jpeg(pdf, page)\n",
        "\n",
        "def jpeg_to_ocr(files_dir: dict):\n",
        "  \"\"\"\n",
        "  OCR each JPG image in the specified directory, and save the results in a JSON file.\n",
        "  This will run a long time.\n",
        "  \"\"\"\n",
        "  for label, p in files_dir.items():\n",
        "    for jpg in tqdm(list(p.glob('*.jpg'))):\n",
        "      ocr_result = ocr_page(jpg)\n",
        "      with jpg.with_suffix(\".json\").open(\"w\") as f:\n",
        "        json.dump(ocr_result, f)"
      ]
    },
    {
      "cell_type": "markdown",
      "metadata": {
        "id": "XZYWYUpaiDYj"
      },
      "source": [
        "With these methods in place, we first create a JPG image of the first page of each example PDF, resulting in a JPG file with the same file name prefix as the PDF."
      ]
    },
    {
      "cell_type": "code",
      "execution_count": null,
      "metadata": {
        "colab": {
          "base_uri": "https://localhost:8080/"
        },
        "id": "0HAYILM-twJ0",
        "outputId": "94f0081d-57c3-42cc-aa54-02c7f9b85498"
      },
      "outputs": [
        {
          "output_type": "stream",
          "name": "stderr",
          "text": [
            "100%|██████████| 100/100 [02:01<00:00,  1.22s/it]\n",
            "100%|██████████| 100/100 [01:27<00:00,  1.14it/s]\n",
            "100%|██████████| 100/100 [01:49<00:00,  1.10s/it]\n",
            "100%|██████████| 100/100 [02:02<00:00,  1.22s/it]\n",
            "100%|██████████| 100/100 [01:23<00:00,  1.20it/s]\n",
            "100%|██████████| 100/100 [00:53<00:00,  1.88it/s]\n",
            "100%|██████████| 100/100 [01:00<00:00,  1.65it/s]\n"
          ]
        }
      ],
      "source": [
        "# NOTE: This will run for a while.\n",
        "# Run this once on the training_dirs and on the unseen_dirs\n",
        "# pdf_to_jpeg(training_dirs, 0)\n",
        "# pdf_to_jpeg(unseen_dirs, 0)"
      ]
    },
    {
      "cell_type": "markdown",
      "metadata": {
        "id": "VfdLM2lAiZXR"
      },
      "source": [
        "Next, we OCR each JPG images, and save the OCR results in a file with the same name as the original PDF but with the .json suffix."
      ]
    },
    {
      "cell_type": "code",
      "execution_count": null,
      "metadata": {
        "colab": {
          "base_uri": "https://localhost:8080/"
        },
        "id": "MijHFHCO5ILm",
        "outputId": "c9d29384-3b8e-4188-ee5b-217df0148972"
      },
      "outputs": [
        {
          "output_type": "stream",
          "name": "stderr",
          "text": [
            "100%|██████████| 100/100 [06:57<00:00,  4.18s/it]\n",
            "100%|██████████| 100/100 [05:37<00:00,  3.38s/it]\n",
            "100%|██████████| 100/100 [17:30<00:00, 10.50s/it]\n",
            "100%|██████████| 100/100 [08:28<00:00,  5.09s/it]\n",
            "100%|██████████| 100/100 [06:23<00:00,  3.83s/it]\n",
            "100%|██████████| 100/100 [02:39<00:00,  1.59s/it]\n",
            "100%|██████████| 100/100 [04:43<00:00,  2.83s/it]\n"
          ]
        }
      ],
      "source": [
        "# NOTE This will run for a while.\n",
        "# Run this once on the training_dirs and once on the unseen_dirs\n",
        "# jpeg_to_ocr(training_dirs)\n",
        "# jpeg_to_ocr(unseen_dirs)"
      ]
    },
    {
      "cell_type": "markdown",
      "metadata": {
        "id": "x8Y_8Tw7iv46"
      },
      "source": [
        "To visually inspect the OCR results, we display the original image and the OCR-extracted text side-by side."
      ]
    },
    {
      "cell_type": "code",
      "execution_count": null,
      "metadata": {
        "id": "X-laXFVw2Pq2"
      },
      "outputs": [],
      "source": [
        "font_path = Path(cv2.__path__[0]) / \"qt/fonts/DejaVuSansCondensed.ttf\"\n",
        "#print(font_path.exists())\n",
        "font = ImageFont.truetype(str(font_path), size=26)\n",
        "\n",
        "def side_by_side(image_path: Path):\n",
        "  \"\"\"\n",
        "  Open the specified image and the corresponding JSON OCR metadata file.\n",
        "  Display the image on the left side with the OCR bounding boxes.\n",
        "  Display just the OCR-extracted text on the right side.\n",
        "  \"\"\"\n",
        "  left_image = Image.open(image_path)\n",
        "  right_image = Image.new(\"RGB\", left_image.size, (255, 255, 255))\n",
        "\n",
        "  left_draw = ImageDraw.Draw(left_image)\n",
        "  right_draw = ImageDraw.Draw(right_image)\n",
        "\n",
        "  fig, (ax1, ax2) = plt.subplots(1, 2, figsize=(28, 28))\n",
        "\n",
        "  with image_path.with_suffix(\".json\").open(\"r\") as f:\n",
        "    ocr_data = json.load(f)\n",
        "\n",
        "  i = 1\n",
        "  for bbox, words in zip(*ocr_data.values()):\n",
        "    left_draw.rectangle(\n",
        "        [\n",
        "            bbox[0],\n",
        "            bbox[1],\n",
        "            bbox[2],\n",
        "            bbox[3],\n",
        "        ],\n",
        "        outline='blue',\n",
        "        width=2\n",
        "      )\n",
        "    left, top, right, bottom = bbox\n",
        "    left_draw.text((right + 5, top), text=str(i + 1), fill='red', font=font)\n",
        "    right_draw.text((left, top), text=words, fill='black', font=font)\n",
        "    i = i + 1\n",
        "\n",
        "  ax1.imshow(left_image)\n",
        "  ax2.imshow(right_image)\n",
        "  ax1.axis('off')\n",
        "  ax2.axis('off')"
      ]
    },
    {
      "cell_type": "code",
      "execution_count": null,
      "metadata": {
        "id": "aBwh78J0-gVc"
      },
      "outputs": [],
      "source": [
        "# Display the first AZCONTRACCT file\n",
        "image_path = list(training_dirs['AZCONTRACT'].glob('*.jpg'))[0]\n",
        "side_by_side(image_path)"
      ]
    },
    {
      "cell_type": "markdown",
      "metadata": {
        "id": "_o0ap-kQf1D8"
      },
      "source": [
        "## Evaluating an example with the pre-trained model\n",
        "\n",
        "As before, let's provide an example image to the model and observe the output.\n",
        "The LayoutLMv3 model consumes the page's text, the bounding boxes for each word, and the page image. The model's forward pass then then returns a prediction.\n",
        "\n",
        "This time, we tell the feature extractor to not use OCR. We'll instead provide our pre-processed data:"
      ]
    },
    {
      "cell_type": "code",
      "execution_count": null,
      "metadata": {
        "id": "E6kSIpaQACtR"
      },
      "outputs": [],
      "source": [
        "from transformers import LayoutLMv3FeatureExtractor, LayoutLMv3TokenizerFast, LayoutLMv3Processor, LayoutLMv3ForSequenceClassification\n",
        "\n",
        "# Not using OCR\n",
        "feature_extractor = LayoutLMv3FeatureExtractor(apply_ocr=False)\n",
        "tokenizer = LayoutLMv3TokenizerFast.from_pretrained(\"microsoft/layoutlmv3-base\")\n",
        "processor = LayoutLMv3Processor(feature_extractor, tokenizer)"
      ]
    },
    {
      "cell_type": "markdown",
      "metadata": {
        "id": "qXKQYszgkcBy"
      },
      "source": [
        "LayoutLMv3 model expects bounding box coordinates to be normalized to a 1000x1000 image. Therefore, we need to scale the bounding boxes from the OCR results:"
      ]
    },
    {
      "cell_type": "code",
      "execution_count": null,
      "metadata": {
        "id": "j7YHJgjeyO5J"
      },
      "outputs": [],
      "source": [
        "def scale_bounding_box(box: List[int], w_scale: float = 1.0, h_scale: float = 1.0):\n",
        "  return [\n",
        "      int(box[0] * w_scale),\n",
        "      int(box[1] * h_scale),\n",
        "      int(box[2] * w_scale),\n",
        "      int(box[3] * h_scale)\n",
        "  ]\n",
        "\n",
        "def prepare_image(im_path):\n",
        "  \"\"\"\n",
        "  Prepare an image to be passed to the processor.\n",
        "  The image, the words, and the scaled bounding boxes for LayoutLM are returned.\n",
        "  \"\"\"\n",
        "  img = Image.open(im_path).convert('RGB')\n",
        "  width, height = img.size\n",
        "  width_scale = 1000 / width\n",
        "  height_scale = 1000 / height\n",
        "  with im_path.with_suffix(\".json\").open(\"r\") as f:\n",
        "    ocr_data = json.load(f)\n",
        "  words = []\n",
        "  boxes = []\n",
        "  for w, b in zip(ocr_data[\"words\"], ocr_data[\"bbox\"]):\n",
        "    words.append(w)\n",
        "    boxes.append(scale_bounding_box(b, width_scale, height_scale))\n",
        "\n",
        "  assert len(words) == len(boxes)\n",
        "  for bo in boxes:\n",
        "    for z in bo:\n",
        "      if (z > 1000):\n",
        "        raise\n",
        "\n",
        "  return img, words, boxes"
      ]
    },
    {
      "cell_type": "markdown",
      "source": [
        "We now use these helper functions to encode an image, and provide it to the processor. In addition to the page image, we must now also provide the sequence of words and the word bounding boxes.\n",
        "\n",
        "As in the previous notebook, we need to truncate our input sequences to 512 tokens:"
      ],
      "metadata": {
        "id": "vKzdz63j8Fhs"
      }
    },
    {
      "cell_type": "code",
      "execution_count": null,
      "metadata": {
        "colab": {
          "base_uri": "https://localhost:8080/"
        },
        "id": "vNv3-aoY0SQk",
        "outputId": "9fc2be02-7ff6-4f7d-cbc8-84e143c1139f"
      },
      "outputs": [
        {
          "output_type": "stream",
          "name": "stdout",
          "text": [
            "dict_keys(['input_ids', 'attention_mask', 'bbox', 'pixel_values'])\n",
            "\n",
            " input_ids: [512]\n",
            " bbox: [512, 4]\n",
            " pixel_values: [3, 224, 224]\n",
            " image size: (2540, 4244)\n",
            "\n"
          ]
        }
      ],
      "source": [
        "image_path = list(training_dirs['AZCONTRACT'].glob('*.jpg'))[0]\n",
        "image, words, bbox = prepare_image(image_path)\n",
        "\n",
        "encoding = processor(\n",
        "    image,\n",
        "    words,\n",
        "    boxes=bbox,\n",
        "    max_length=512,\n",
        "    padding=\"max_length\",\n",
        "    truncation=True,\n",
        "    return_tensors=\"pt\"\n",
        ")\n",
        "\n",
        "print(encoding.keys())\n",
        "\n",
        "print(f\"\"\"\n",
        " input_ids: {list(encoding[\"input_ids\"].squeeze().shape)}\n",
        " bbox: {list(encoding['bbox'].squeeze().shape)}\n",
        " pixel_values: {list(encoding['pixel_values'].squeeze().shape)}\n",
        " image size: {image.size}\n",
        "\"\"\")"
      ]
    },
    {
      "cell_type": "markdown",
      "metadata": {
        "id": "Om0utIFsKmyH"
      },
      "source": [
        "The pixel_values for image embedding indducates 224x224 squares, 3 channels.\n",
        "The bbox elements have 4 values: left, top, right, bottom.\n",
        "\n",
        "Let's take a look at the tokenizer results and the image:"
      ]
    },
    {
      "cell_type": "code",
      "execution_count": null,
      "metadata": {
        "colab": {
          "base_uri": "https://localhost:8080/",
          "height": 315
        },
        "id": "fZKeVxspuWbN",
        "outputId": "82fa535f-a117-476b-885c-5e221c64b96e"
      },
      "outputs": [
        {
          "output_type": "stream",
          "name": "stdout",
          "text": [
            "['ĠA', 'AW', 'Ġ5', '53', '-', 'AZ', '-', 'ARB', '-', 'eps', '-', '14', 'Ġ11', '/', '23', 'ĠR', 'ETA', 'IL', 'ĠINST', 'ALL']\n",
            " AAW 553-AZ-ARB-eps-14 11/23 RETAIL INSTALL\n",
            "torch.Size([3, 224, 224])\n"
          ]
        },
        {
          "output_type": "execute_result",
          "data": {
            "text/plain": [
              "<PIL.Image.Image image mode=RGB size=224x224>"
            ],
            "image/png": "[encoded data removed]"
          },
          "metadata": {},
          "execution_count": 14
        }
      ],
      "source": [
        "tokens = tokenizer.convert_ids_to_tokens(\n",
        "    encoding[\"input_ids\"][0],\n",
        "    skip_special_tokens=True\n",
        ")\n",
        "print(tokens[:20])\n",
        "\n",
        "print(tokenizer.convert_tokens_to_string(tokens[:20]))\n",
        "\n",
        "image_data = encoding[\"pixel_values\"][0]\n",
        "print(image_data.shape)\n",
        "transform = T.ToPILImage()\n",
        "transform(image_data)"
      ]
    },
    {
      "cell_type": "markdown",
      "source": [
        "As in the previous notebook, let's pass this example to the model:"
      ],
      "metadata": {
        "id": "e8X4iPIR-PDH"
      }
    },
    {
      "cell_type": "code",
      "execution_count": null,
      "metadata": {
        "id": "yQo-rCptvkpW"
      },
      "outputs": [],
      "source": [
        "model = LayoutLMv3ForSequenceClassification.from_pretrained(\"microsoft/layoutlmv3-base\", output_hidden_states=True)\n",
        "outputs = model(**encoding)\n",
        "print(outputs.logits)\n"
      ]
    },
    {
      "cell_type": "markdown",
      "metadata": {
        "id": "on31FAqeSVkj"
      },
      "source": [
        "## Create a Pytorch dataset\n",
        "\n",
        "As we confirmed that the model is able to process our encoded inputs, we now create a PyTorch dataset for the training and test examples, and save this dataset on the Google Drive, under the DOC_DATA directory:"
      ]
    },
    {
      "cell_type": "code",
      "execution_count": null,
      "metadata": {
        "id": "ToEDW19gSCH6"
      },
      "outputs": [],
      "source": [
        "class DocumentClassificationDataset(Dataset):\n",
        "\n",
        "  def __init__(self, image_paths, processor):\n",
        "    self.image_paths = image_paths\n",
        "    self.processor = processor\n",
        "\n",
        "  def __len__(self):\n",
        "    return len(self.image_paths)\n",
        "\n",
        "  def __getitem__(self, item):\n",
        "    image_path = self.image_paths[item]\n",
        "    image, words, bbox = prepare_image(image_path)\n",
        "    encoding = self.processor(\n",
        "        image,\n",
        "        words,\n",
        "        boxes=bbox,\n",
        "        max_length=512,\n",
        "        padding=\"max_length\",\n",
        "        truncation=True,\n",
        "        return_tensors=\"pt\"\n",
        "    )\n",
        "\n",
        "    # The document file's parent directory name is the label for the file:\n",
        "    label = DOCUMENT_CLASSES.index(image_path.parent.name)\n",
        "\n",
        "    return dict(\n",
        "        input_ids=encoding['input_ids'].flatten(),\n",
        "        attention_mask=encoding['attention_mask'].flatten(),\n",
        "        bbox=encoding['bbox'].flatten(end_dim=1),\n",
        "        pixel_values=encoding['pixel_values'].flatten(end_dim=1),\n",
        "        labels=torch.tensor(label, dtype=torch.long)\n",
        "    )\n"
      ]
    },
    {
      "cell_type": "markdown",
      "source": [
        "We now iterate through all the images in all subdirectories under the training document directory, and create a train and test split:"
      ],
      "metadata": {
        "id": "YC1mx2zQ_cyN"
      }
    },
    {
      "cell_type": "code",
      "execution_count": null,
      "metadata": {
        "colab": {
          "base_uri": "https://localhost:8080/"
        },
        "id": "8Wex9K92Y61E",
        "outputId": "62027f4a-3939-4bb4-897e-4d76764d1891"
      },
      "outputs": [
        {
          "output_type": "stream",
          "name": "stdout",
          "text": [
            "3497 images\n"
          ]
        }
      ],
      "source": [
        "selected_images = []\n",
        "for p in training_dirs.values():\n",
        "  imp = list(p.glob('*.jpg'))\n",
        "  selected_images.extend(imp)\n",
        "\n",
        "print(f\"{len(selected_images)} images\")\n",
        "\n",
        "train_images, test_images = train_test_split(selected_images, test_size=.2)"
      ]
    },
    {
      "cell_type": "markdown",
      "source": [
        "We create the two datasets, check if the datasets look fine, and then save the datasets to disk:"
      ],
      "metadata": {
        "id": "eS11h1-N_29R"
      }
    },
    {
      "cell_type": "code",
      "execution_count": null,
      "metadata": {
        "id": "cr_QMIq8elCp"
      },
      "outputs": [],
      "source": [
        "train_dataset = DocumentClassificationDataset(train_images, processor)\n",
        "test_dataset = DocumentClassificationDataset(test_images, processor)"
      ]
    },
    {
      "cell_type": "code",
      "execution_count": null,
      "metadata": {
        "id": "VtxkmODWgqMN"
      },
      "outputs": [],
      "source": [
        "for item in train_dataset:\n",
        "  print(item['bbox'].shape)\n",
        "  print(item['pixel_values'].shape)\n",
        "  print(item['labels'].item())\n",
        "  break"
      ]
    },
    {
      "cell_type": "code",
      "execution_count": null,
      "metadata": {
        "id": "dlvPrdOsFe96"
      },
      "outputs": [],
      "source": [
        "torch.save(train_dataset, DATASET_DIR / 'train_dataset')\n",
        "torch.save(test_dataset, DATASET_DIR / 'test_dataset')"
      ]
    }
  ],
  "metadata": {
    "colab": {
      "machine_shape": "hm",
      "provenance": [],
      "mount_file_id": "132LOFGkt8A3OpdCvc6SR-QVWp73MB3LR",
      "authorship_tag": "ABX9TyPoCIHiRyOXgiBrFSLd+y7b",
      "include_colab_link": true
    },
    "kernelspec": {
      "display_name": "Python 3",
      "name": "python3"
    },
    "language_info": {
      "name": "python"
    }
  },
  "nbformat": 4,
  "nbformat_minor": 0
}